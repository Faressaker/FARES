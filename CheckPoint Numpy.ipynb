{
 "cells": [
  {
   "cell_type": "code",
   "execution_count": 1,
   "id": "898f4a92",
   "metadata": {},
   "outputs": [],
   "source": [
    "#question1"
   ]
  },
  {
   "cell_type": "code",
   "execution_count": 2,
   "id": "2f0a29d9",
   "metadata": {},
   "outputs": [
    {
     "name": "stdout",
     "output_type": "stream",
     "text": [
      "[[2, 10], [3, 8]]\n"
     ]
    }
   ],
   "source": [
    "import numpy as np\n",
    "n_array=np.array([[2,10],[3,8]])\n",
    "m=n_array.tolist()\n",
    "print(m)"
   ]
  },
  {
   "cell_type": "code",
   "execution_count": 3,
   "id": "c2dd769a",
   "metadata": {},
   "outputs": [
    {
     "name": "stdout",
     "output_type": "stream",
     "text": [
      "10\n"
     ]
    }
   ],
   "source": [
    "import numpy as np\n",
    "n_array=np.array([[2,10],[3,8]])\n",
    "m=n_array.trace()\n",
    "print(m)"
   ]
  },
  {
   "cell_type": "code",
   "execution_count": 4,
   "id": "2e9d8eef",
   "metadata": {},
   "outputs": [
    {
     "name": "stdout",
     "output_type": "stream",
     "text": [
      "[[1. 0. 0. 0. 0.]\n",
      " [0. 1. 0. 0. 0.]\n",
      " [0. 0. 1. 0. 0.]\n",
      " [0. 0. 0. 1. 0.]\n",
      " [0. 0. 0. 0. 1.]]\n"
     ]
    }
   ],
   "source": [
    "import numpy as np\n",
    "array=np.eye(5)\n",
    "print(array)"
   ]
  },
  {
   "cell_type": "code",
   "execution_count": 5,
   "id": "545a968b",
   "metadata": {},
   "outputs": [
    {
     "name": "stdout",
     "output_type": "stream",
     "text": [
      "5.0\n"
     ]
    }
   ],
   "source": [
    "m=array.trace()\n",
    "print(m)"
   ]
  },
  {
   "cell_type": "code",
   "execution_count": 6,
   "id": "ae05b975",
   "metadata": {},
   "outputs": [
    {
     "name": "stdout",
     "output_type": "stream",
     "text": [
      "Original array: \n",
      "[[7 4 9]\n",
      " [9 6 5]]\n",
      "Values bigger than 2 = [7 4 9 9 6 5]\n"
     ]
    }
   ],
   "source": [
    "import numpy as np\n",
    "array=np.random.randint(2, 10, size=(2,3))\n",
    "print(\"Original array: \")\n",
    "print(array)\n",
    "print(\"Values bigger than 2 =\",array[array>2])"
   ]
  },
  {
   "cell_type": "code",
   "execution_count": 7,
   "id": "a8aa1e06",
   "metadata": {},
   "outputs": [],
   "source": [
    "#question4"
   ]
  },
  {
   "cell_type": "code",
   "execution_count": 11,
   "id": "576db199",
   "metadata": {},
   "outputs": [],
   "source": [
    "import numpy as np\n",
    "A=np.random.randint(8, 10, size=(3,3))\n",
    "B=np.random.randint(6, 40, size=(3,3))"
   ]
  },
  {
   "cell_type": "code",
   "execution_count": 13,
   "id": "6c04e9cf",
   "metadata": {},
   "outputs": [
    {
     "name": "stdout",
     "output_type": "stream",
     "text": [
      "[[19 26 27]\n",
      " [27 24 16]\n",
      " [45 43 29]]\n"
     ]
    }
   ],
   "source": [
    "C=np.add(A,B)\n",
    "print(C)"
   ]
  },
  {
   "cell_type": "code",
   "execution_count": 14,
   "id": "9f9805dc",
   "metadata": {},
   "outputs": [],
   "source": [
    "#question5"
   ]
  },
  {
   "cell_type": "code",
   "execution_count": 18,
   "id": "95dff7b0",
   "metadata": {},
   "outputs": [
    {
     "name": "stdout",
     "output_type": "stream",
     "text": [
      "[[-0.5  0.5]\n",
      " [-0.5  0.5]]\n"
     ]
    }
   ],
   "source": [
    "X=np.array([[1,2],\n",
    "            [3,4]])\n",
    "Y= X - X.mean(axis=1, keepdims=True)\n",
    "print(Y)"
   ]
  },
  {
   "cell_type": "code",
   "execution_count": null,
   "id": "43bb784c",
   "metadata": {},
   "outputs": [],
   "source": []
  }
 ],
 "metadata": {
  "kernelspec": {
   "display_name": "Python 3 (ipykernel)",
   "language": "python",
   "name": "python3"
  },
  "language_info": {
   "codemirror_mode": {
    "name": "ipython",
    "version": 3
   },
   "file_extension": ".py",
   "mimetype": "text/x-python",
   "name": "python",
   "nbconvert_exporter": "python",
   "pygments_lexer": "ipython3",
   "version": "3.9.12"
  }
 },
 "nbformat": 4,
 "nbformat_minor": 5
}
