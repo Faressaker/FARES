{
 "cells": [
  {
   "cell_type": "code",
   "execution_count": 1,
   "id": "4626b92a",
   "metadata": {},
   "outputs": [],
   "source": [
    "def add(x, y):\n",
    "    return x + y\n",
    "\n",
    "def subtract(x, y):\n",
    "    return x - y\n",
    "\n",
    "def multiply(x, y):\n",
    "    return x * y\n",
    "\n",
    "def divide(x, y):\n",
    "    return x / y\n",
    "\n",
    "def modulus(x, y):\n",
    "    return x % y\n",
    "\n",
    "def exponentiation(x, y):\n",
    "    return x ** y\n",
    "\n",
    "def floor_division(x, y):\n",
    "    return x // y\n"
   ]
  },
  {
   "cell_type": "code",
   "execution_count": 2,
   "id": "b37175fe",
   "metadata": {},
   "outputs": [
    {
     "name": "stdout",
     "output_type": "stream",
     "text": [
      "Select operation.\n",
      "1.Add\n",
      "2.Subtract\n",
      "3.Multiply\n",
      "4.Divide\n",
      "5.modulus\n",
      "6.exponentiation\n",
      "7.floor_division\n"
     ]
    }
   ],
   "source": [
    "print(\"Select operation.\")\n",
    "print(\"1.Add\")\n",
    "print(\"2.Subtract\")\n",
    "print(\"3.Multiply\")\n",
    "print(\"4.Divide\")\n",
    "print(\"5.modulus\")\n",
    "print(\"6.exponentiation\")\n",
    "print(\"7.floor_division\")"
   ]
  },
  {
   "cell_type": "code",
   "execution_count": null,
   "id": "2bff1ec6",
   "metadata": {},
   "outputs": [],
   "source": [
    "choice = input(\"Enter choice(1/2/3/4/5/6/7): \")\n",
    "\n",
    "if choice in ('1', '2', '3', '4', '5', '6', '7'):\n",
    "        num1 = float(input(\"Enter first number: \"))\n",
    "        num2 = float(input(\"Enter second number: \"))\n",
    "\n",
    "        if choice == '1':\n",
    "            print(num1, \"+\", num2, \"=\", add(num1, num2))\n",
    "\n",
    "        elif choice == '2':\n",
    "            print(num1, \"-\", num2, \"=\", subtract(num1, num2))\n",
    "\n",
    "        elif choice == '3':\n",
    "            print(num1, \"*\", num2, \"=\", multiply(num1, num2))\n",
    "\n",
    "        elif choice == '4':\n",
    "            print(num1, \"/\", num2, \"=\", divide(num1, num2))\n",
    "        \n",
    "        elif choice == '5':\n",
    "            print(num1, \"%\", num2, \"=\", modulus(num1, num2))\n",
    "\n",
    "        elif choice == '6':\n",
    "            print(num1, \"**\", num2, \"=\", exponentiation(num1, num2))\n",
    "\n",
    "        elif choice == '7':\n",
    "            print(num1, \"//\", num2, \"=\", floor_division(num1, num2))\n",
    "            \n",
    "else:\n",
    "    print(\"Invalid Input\")"
   ]
  },
  {
   "cell_type": "code",
   "execution_count": null,
   "id": "06726104",
   "metadata": {},
   "outputs": [],
   "source": []
  }
 ],
 "metadata": {
  "kernelspec": {
   "display_name": "Python 3 (ipykernel)",
   "language": "python",
   "name": "python3"
  },
  "language_info": {
   "codemirror_mode": {
    "name": "ipython",
    "version": 3
   },
   "file_extension": ".py",
   "mimetype": "text/x-python",
   "name": "python",
   "nbconvert_exporter": "python",
   "pygments_lexer": "ipython3",
   "version": "3.9.12"
  }
 },
 "nbformat": 4,
 "nbformat_minor": 5
}
