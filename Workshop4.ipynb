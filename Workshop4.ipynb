{
 "cells": [
  {
   "cell_type": "code",
   "execution_count": 1,
   "id": "00deee44",
   "metadata": {},
   "outputs": [],
   "source": [
    "#question1"
   ]
  },
  {
   "cell_type": "code",
   "execution_count": 2,
   "id": "d050a92e",
   "metadata": {},
   "outputs": [],
   "source": [
    "def mx( x, y, z ):\n",
    "    if x>y and x>z:\n",
    "        print(x)\n",
    "    elif y>x and y>z:\n",
    "        print(b)\n",
    "    elif z>x and z>y:\n",
    "        print (z)"
   ]
  },
  {
   "cell_type": "code",
   "execution_count": 3,
   "id": "2bee3f7e",
   "metadata": {},
   "outputs": [
    {
     "name": "stdout",
     "output_type": "stream",
     "text": [
      "7\n"
     ]
    }
   ],
   "source": [
    "mx(5,6,7)"
   ]
  },
  {
   "cell_type": "code",
   "execution_count": 4,
   "id": "ca6c1744",
   "metadata": {},
   "outputs": [],
   "source": [
    "#question2"
   ]
  },
  {
   "cell_type": "code",
   "execution_count": 5,
   "id": "5262cb4e",
   "metadata": {},
   "outputs": [],
   "source": [
    "def calculation(a,b):\n",
    "    add=a+b\n",
    "    sub=a-b\n",
    "    print(sub, add)"
   ]
  },
  {
   "cell_type": "code",
   "execution_count": 6,
   "id": "8524007a",
   "metadata": {},
   "outputs": [
    {
     "name": "stdout",
     "output_type": "stream",
     "text": [
      "-5 11\n"
     ]
    }
   ],
   "source": [
    "calculation(3,8)"
   ]
  },
  {
   "cell_type": "code",
   "execution_count": 7,
   "id": "f743256d",
   "metadata": {},
   "outputs": [],
   "source": [
    "#question3"
   ]
  },
  {
   "cell_type": "code",
   "execution_count": 8,
   "id": "82cbcf35",
   "metadata": {},
   "outputs": [],
   "source": [
    "def somme(a):\n",
    "    som=0\n",
    "    for i in a:\n",
    "        som=som+i\n",
    "    return som"
   ]
  },
  {
   "cell_type": "code",
   "execution_count": 9,
   "id": "427b4ed6",
   "metadata": {},
   "outputs": [
    {
     "data": {
      "text/plain": [
       "9"
      ]
     },
     "execution_count": 9,
     "metadata": {},
     "output_type": "execute_result"
    }
   ],
   "source": [
    "list=[1,3,5]\n",
    "somme(list)"
   ]
  },
  {
   "cell_type": "code",
   "execution_count": 10,
   "id": "a01d5e12",
   "metadata": {},
   "outputs": [],
   "source": [
    "def multi(a):\n",
    "    som=1\n",
    "    for i in a:\n",
    "        som=som*i\n",
    "    return som"
   ]
  },
  {
   "cell_type": "code",
   "execution_count": 11,
   "id": "127beb0d",
   "metadata": {},
   "outputs": [
    {
     "data": {
      "text/plain": [
       "35"
      ]
     },
     "execution_count": 11,
     "metadata": {},
     "output_type": "execute_result"
    }
   ],
   "source": [
    "list=[1,5,7]\n",
    "multi(list)"
   ]
  },
  {
   "cell_type": "code",
   "execution_count": 12,
   "id": "5bc36ec1",
   "metadata": {},
   "outputs": [],
   "source": [
    "z=[1,2,3,4,5,6]"
   ]
  },
  {
   "cell_type": "code",
   "execution_count": 13,
   "id": "c338f14c",
   "metadata": {},
   "outputs": [],
   "source": [
    "def list(z):\n",
    "    odd_list=[]\n",
    "    even_list=[]\n",
    "    for i in range(len(z)):\n",
    "        if i % 2==0:\n",
    "            even_list.append(z[i])\n",
    "        else:\n",
    "            odd_list.append(z[i])\n",
    "    \n",
    "    return even_list , odd_list , somme(even_list), multi(odd_list)"
   ]
  },
  {
   "cell_type": "code",
   "execution_count": 14,
   "id": "828d6fa1",
   "metadata": {},
   "outputs": [
    {
     "data": {
      "text/plain": [
       "([1, 3, 5], [2, 4, 6], 9, 48)"
      ]
     },
     "execution_count": 14,
     "metadata": {},
     "output_type": "execute_result"
    }
   ],
   "source": [
    "list(z)"
   ]
  },
  {
   "cell_type": "code",
   "execution_count": 15,
   "id": "bed5d4da",
   "metadata": {},
   "outputs": [],
   "source": [
    "#question4"
   ]
  },
  {
   "cell_type": "code",
   "execution_count": 16,
   "id": "ecaacc77",
   "metadata": {},
   "outputs": [
    {
     "name": "stdout",
     "output_type": "stream",
     "text": [
      "['green', 'red', 'yellow', 'black', 'white']\n"
     ]
    }
   ],
   "source": [
    "txt=\"green-red-yellow-black-white\"\n",
    "x=txt.split(\"-\")\n",
    "print(x)"
   ]
  },
  {
   "cell_type": "code",
   "execution_count": 17,
   "id": "fec1cc2c",
   "metadata": {},
   "outputs": [
    {
     "name": "stdout",
     "output_type": "stream",
     "text": [
      "['black', 'green', 'red', 'white', 'yellow']\n"
     ]
    }
   ],
   "source": [
    "x.sort()\n",
    "print(x)"
   ]
  },
  {
   "cell_type": "code",
   "execution_count": 18,
   "id": "c0da6fe3",
   "metadata": {},
   "outputs": [
    {
     "name": "stdout",
     "output_type": "stream",
     "text": [
      "black-green-red-white-yellow\n"
     ]
    }
   ],
   "source": [
    "txt = \"-\".join(x)\n",
    "\n",
    "print(txt)"
   ]
  },
  {
   "cell_type": "code",
   "execution_count": 19,
   "id": "e38f879d",
   "metadata": {},
   "outputs": [
    {
     "name": "stdout",
     "output_type": "stream",
     "text": [
      "1\n",
      "['1']\n",
      "['1']\n"
     ]
    }
   ],
   "source": [
    "txt=input()\n",
    "x=txt.split(\"-\")\n",
    "print(x)\n",
    "x.sort()\n",
    "print(x)"
   ]
  },
  {
   "cell_type": "code",
   "execution_count": 20,
   "id": "d653423e",
   "metadata": {},
   "outputs": [
    {
     "name": "stdout",
     "output_type": "stream",
     "text": [
      "1\n"
     ]
    }
   ],
   "source": [
    "txt = \"-\".join(x)\n",
    "print(txt)"
   ]
  },
  {
   "cell_type": "code",
   "execution_count": 21,
   "id": "5c9071bb",
   "metadata": {},
   "outputs": [],
   "source": [
    "#question5"
   ]
  },
  {
   "cell_type": "code",
   "execution_count": 22,
   "id": "091b6936",
   "metadata": {},
   "outputs": [],
   "source": [
    "from math import sqrt\n",
    "def de():\n",
    "    D=input().split(\",\")\n",
    "    for i in D:\n",
    "        Q=round(sqrt((2 * 50 * int(i)/30)))\n",
    "        print(Q)"
   ]
  },
  {
   "cell_type": "code",
   "execution_count": 23,
   "id": "c94bc166",
   "metadata": {},
   "outputs": [
    {
     "name": "stdout",
     "output_type": "stream",
     "text": [
      "100,150,180\n",
      "18\n",
      "22\n",
      "24\n"
     ]
    }
   ],
   "source": [
    "de() "
   ]
  }
 ],
 "metadata": {
  "kernelspec": {
   "display_name": "Python 3 (ipykernel)",
   "language": "python",
   "name": "python3"
  },
  "language_info": {
   "codemirror_mode": {
    "name": "ipython",
    "version": 3
   },
   "file_extension": ".py",
   "mimetype": "text/x-python",
   "name": "python",
   "nbconvert_exporter": "python",
   "pygments_lexer": "ipython3",
   "version": "3.9.12"
  }
 },
 "nbformat": 4,
 "nbformat_minor": 5
}
