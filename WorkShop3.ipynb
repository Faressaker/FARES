{
 "cells": [
  {
   "cell_type": "code",
   "execution_count": 1,
   "id": "0723a3c8",
   "metadata": {},
   "outputs": [],
   "source": [
    "#question1"
   ]
  },
  {
   "cell_type": "code",
   "execution_count": 2,
   "id": "18a03650",
   "metadata": {},
   "outputs": [
    {
     "name": "stdout",
     "output_type": "stream",
     "text": [
      "36\n"
     ]
    }
   ],
   "source": [
    "e=[2,3,6]\n",
    "r=1\n",
    "for i in e:\n",
    "    r=i*r\n",
    "print(r)"
   ]
  },
  {
   "cell_type": "code",
   "execution_count": 3,
   "id": "c37b11ec",
   "metadata": {},
   "outputs": [],
   "source": [
    "#question2"
   ]
  },
  {
   "cell_type": "code",
   "execution_count": 4,
   "id": "8463e474",
   "metadata": {},
   "outputs": [
    {
     "name": "stdout",
     "output_type": "stream",
     "text": [
      "[(4, 4), (2, 5), (2, 3), (2, 1), (1, 2)]\n"
     ]
    }
   ],
   "source": [
    "e=[(2,5),(1,2),(4,4),(2,3),(2,1)]\n",
    "e.sort(reverse = True)\n",
    "print(e)"
   ]
  },
  {
   "cell_type": "code",
   "execution_count": 5,
   "id": "3fd5b456",
   "metadata": {},
   "outputs": [],
   "source": [
    "#question3"
   ]
  },
  {
   "cell_type": "code",
   "execution_count": 6,
   "id": "45619011",
   "metadata": {},
   "outputs": [
    {
     "name": "stdout",
     "output_type": "stream",
     "text": [
      "{'a': 400, 'b': 400, 'c': 300, 'd': 400}\n"
     ]
    }
   ],
   "source": [
    "dictA = {'a':100,'b':200,'c':300}\n",
    "dictB = {'a':300,'b':200,'d':400}\n",
    "dictC = {}\n",
    "for i in dictA:\n",
    "    \n",
    "   if i in dictB:\n",
    "      dictC[i] = dictB[i] + dictA[i]\n",
    "   else:\n",
    "      dictC[i] = dictA[i]\n",
    "for i in dictB:\n",
    "    if i in dictA:\n",
    "        dictC[i] = dictB[i] + dictA[i]\n",
    "    else: \n",
    "        dictC[i] = dictB[i]\n",
    "\n",
    "print(dictC)"
   ]
  },
  {
   "cell_type": "code",
   "execution_count": 7,
   "id": "2b68ac2f",
   "metadata": {},
   "outputs": [],
   "source": [
    "#question4"
   ]
  },
  {
   "cell_type": "code",
   "execution_count": 23,
   "id": "57ac8d1b",
   "metadata": {},
   "outputs": [
    {
     "name": "stdout",
     "output_type": "stream",
     "text": [
      "Type a number: 7\n",
      "{1: 1, 2: 4, 3: 9, 4: 16, 5: 25, 6: 36}\n"
     ]
    }
   ],
   "source": [
    "x = int(input(\"Type a number: \"))\n",
    "\n",
    "e = {}\n",
    "for i in range(1,x):\n",
    "    e[i] = i*i\n",
    "\n",
    "print(e)"
   ]
  },
  {
   "cell_type": "code",
   "execution_count": 10,
   "id": "40f903a9",
   "metadata": {},
   "outputs": [],
   "source": [
    "#question5"
   ]
  },
  {
   "cell_type": "code",
   "execution_count": null,
   "id": "747080fc",
   "metadata": {},
   "outputs": [],
   "source": [
    "list= [('item1', '12.20'), ('item2', '15.10'), ('item3', '24.5')]\n",
    "list.sort(reverse= True)\n",
    "print(list)"
   ]
  }
 ],
 "metadata": {
  "kernelspec": {
   "display_name": "Python 3 (ipykernel)",
   "language": "python",
   "name": "python3"
  },
  "language_info": {
   "codemirror_mode": {
    "name": "ipython",
    "version": 3
   },
   "file_extension": ".py",
   "mimetype": "text/x-python",
   "name": "python",
   "nbconvert_exporter": "python",
   "pygments_lexer": "ipython3",
   "version": "3.9.12"
  }
 },
 "nbformat": 4,
 "nbformat_minor": 5
}
